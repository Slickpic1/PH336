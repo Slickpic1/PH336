{
 "cells": [
  {
   "cell_type": "markdown",
   "metadata": {},
   "source": [
    "$$\n",
    "Z = \\frac{D}{\\sqrt{\\frac{s^{2}_{D}}{N}}}\n",
    "$$\n",
    "\n",
    "$$\n",
    "Z = \\frac{x_{1}+x_{2}}{\\sqrt{\\frac{s^{2}_{1}}{N_{1}}{s^{2}_{2}}{N_{2}}}}\n",
    "$$\n",
    "\n",
    "$$\n",
    "\\chi^{2} = \\sum_{i}\\frac{(y_{i} - y(h_{i}))^{2}}{\\sigma ^{2}}\n",
    "$$\n",
    "\n",
    "$$\n",
    "r = \\frac{\\vec{A}\\vec{B}}{|A||B|}\n",
    "$$"
   ]
  },
  {
   "cell_type": "code",
   "execution_count": 12,
   "metadata": {},
   "outputs": [
    {
     "name": "stdout",
     "output_type": "stream",
     "text": [
      "[452. 456. 342. 354. 405. 352.]\n",
      "[598. 599. 648. 742. 739. 761. 774. 764.]\n",
      "[775. 726. 537. 468. 561. 600. 653. 639. 682. 789. 839. 776. 762. 894.\n",
      " 841.]\n"
     ]
    }
   ],
   "source": [
    "#Import libraries\n",
    "import numpy as np\n",
    "from matplotlib import pyplot as plt\n",
    "import pandas as pd\n",
    "\n",
    "#Open and read from file\n",
    "file_name = \"PH 336_SDL_ROM_2024-03-13.csv\"   #update this\n",
    "data = pd.read_csv(file_name,encoding='unicode_escape')\n",
    "\n",
    "#Romney Data (see if we cant abstract a bit more efficiently)\n",
    "Rom_base_list = np.array(data[\"CountRate(CPM)\"][6:12].astype(float))  \n",
    "Rom_floor1_list = np.array(data[\"CountRate(CPM)\"][15:23].astype(float))\n",
    "Rom_floor2_list = np.array(data[\"CountRate(CPM)\"][26:41].astype(float))\n",
    "\n",
    "#Def Zscore test\n",
    "def ZScore(x_array_1,x_array_2):\n",
    "    #Calculate the number of values in both arrays\n",
    "    N1 = len(x_array_1)\n",
    "    N2 = len(x_array_2)\n",
    "\n",
    "    #Calculate the mean of both arrays\n",
    "    x1_mean = sum(x_array_1)/N1\n",
    "    x2_mean = sum(x_array_2)/N2\n",
    "\n",
    "    #Calculate the stdev of both\n",
    "    stdev_x1 = \n",
    "\n",
    "\n",
    "\n",
    "#Test Outputs for now\n",
    "print(Rom_base_list)\n",
    "print(Rom_floor1_list)\n",
    "print(Rom_floor2_list)"
   ]
  },
  {
   "cell_type": "code",
   "execution_count": null,
   "metadata": {},
   "outputs": [],
   "source": []
  }
 ],
 "metadata": {
  "kernelspec": {
   "display_name": "base",
   "language": "python",
   "name": "python3"
  },
  "language_info": {
   "codemirror_mode": {
    "name": "ipython",
    "version": 3
   },
   "file_extension": ".py",
   "mimetype": "text/x-python",
   "name": "python",
   "nbconvert_exporter": "python",
   "pygments_lexer": "ipython3",
   "version": "3.9.13"
  }
 },
 "nbformat": 4,
 "nbformat_minor": 2
}
