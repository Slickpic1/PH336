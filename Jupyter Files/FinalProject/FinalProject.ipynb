{
 "cells": [
  {
   "cell_type": "markdown",
   "metadata": {},
   "source": [
    "$$\n",
    "Z = \\frac{D}{\\sqrt{\\frac{s^{2}_{D}}{N}}}\n",
    "$$\n",
    "\n",
    "$$\n",
    "Z = \\frac{\\bar{x_{1}}+\\bar{x_{2}}}{\\sqrt{\\frac{s^{2}_{1}}{N_{1}} + \\frac{s^{2}_{2}}{N_{2}}}}\n",
    "$$\n",
    "\n",
    "$$\n",
    "\\chi^{2} = \\sum_{i}\\frac{(y_{i} - y(h_{i}))^{2}}{\\sigma ^{2}}\n",
    "$$\n",
    "\n",
    "$$\n",
    "r = \\frac{\\vec{A}\\vec{B}}{|A||B|}\n",
    "$$"
   ]
  },
  {
   "cell_type": "code",
   "execution_count": 15,
   "metadata": {},
   "outputs": [
    {
     "name": "stdout",
     "output_type": "stream",
     "text": [
      "Z_score between basement and floor1 = 32.23\n",
      "Z_score between floor 1 and floor2 = 29.80\n",
      "Correlation Coefficient between floor 1 and floor 2: -0.54\n"
     ]
    }
   ],
   "source": [
    "#Import libraries\n",
    "import numpy as np\n",
    "from matplotlib import pyplot as plt\n",
    "import pandas as pd\n",
    "\n",
    "#Open and read from file\n",
    "file_name = \"PH 336_SDL_ROM_2024-03-13.csv\"   #update this\n",
    "data = pd.read_csv(file_name,encoding='unicode_escape')\n",
    "\n",
    "#Romney Data (see if we cant abstract a bit more efficiently)\n",
    "Rom_base_list = np.array(data[\"CountRate(CPM)\"][6:12].astype(float))  \n",
    "Rom_floor1_list = np.array(data[\"CountRate(CPM)\"][15:23].astype(float))\n",
    "Rom_floor2_list = np.array(data[\"CountRate(CPM)\"][26:41].astype(float))\n",
    "\n",
    "def mean(x_array):\n",
    "    N = len(x_array)\n",
    "    return sum(x_array)/N\n",
    "\n",
    "def stdev(x_array):\n",
    "    x_mean = mean(x_array)\n",
    "    stdev_x = 0\n",
    "    N = len(x_array)\n",
    "    for x in x_array:\n",
    "        stdev_x += (x-x_mean)**2\n",
    "    return np.sqrt((stdev_x)/(N-1))\n",
    "\n",
    "#Def Zscore test\n",
    "def ZScore(x1_array,x2_array):\n",
    "    #Calculate the number of values in both arrays\n",
    "    N1 = len(x1_array)\n",
    "    N2 = len(x2_array)\n",
    "\n",
    "    #Calculate the mean of both arrays\n",
    "    x1_mean = mean(x1_array)\n",
    "    x2_mean = mean(x2_array)\n",
    "\n",
    "    #Calculate the Stdev of both arrays\n",
    "    stdev_x1 = stdev(x1_array)\n",
    "    stdev_x2 = stdev(x2_array)\n",
    "\n",
    "    #Calculate and return our Z-Score\n",
    "    return (x1_mean + x2_mean)/(np.sqrt((stdev_x1*stdev_x1/N1) + (stdev_x2 * stdev_x2/N2)))\n",
    "\n",
    "def correlation_coefficient(x1_array,x2_array):\n",
    "    #Define A and B\n",
    "    A = x1_array - mean(x1_array)\n",
    "    B = x2_array - mean(x2_array)\n",
    "\n",
    "    #Find our magnitudes for A and B\n",
    "    Amag = np.linalg.norm(A)\n",
    "    Bmag = np.linalg.norm(B)\n",
    "\n",
    "    #Calculate and return our correlation coefficient\n",
    "    r = A@B/(Amag*Bmag)\n",
    "    return r\n",
    "\n",
    "def Chi_sqrd(x1_array,x2_array,sigma):\n",
    "    # Calculate our Chi squared value\n",
    "    chi_sqrd = sum((x1_array-x2_array)*(x1_array-x2_array)/sigma/sigma)\n",
    "    return chi_sqrd\n",
    "\n",
    "def main():\n",
    "    print(f\"Z_score between basement and floor1 = {ZScore(Rom_base_list,Rom_floor1_list):.2f}\")\n",
    "    print(f\"Z_score between floor 1 and floor2 = {ZScore(Rom_floor1_list,Rom_floor2_list):.2f}\")\n",
    "    print(f\"Correlation Coefficient between floor 1 and floor 2: {correlation_coefficient(Rom_floor1_list,Rom_floor2_list)}\")\n",
    "    return\n",
    "\n",
    "if __name__ == \"__main__\":\n",
    "    main()"
   ]
  },
  {
   "cell_type": "code",
   "execution_count": null,
   "metadata": {},
   "outputs": [],
   "source": []
  }
 ],
 "metadata": {
  "kernelspec": {
   "display_name": "base",
   "language": "python",
   "name": "python3"
  },
  "language_info": {
   "codemirror_mode": {
    "name": "ipython",
    "version": 3
   },
   "file_extension": ".py",
   "mimetype": "text/x-python",
   "name": "python",
   "nbconvert_exporter": "python",
   "pygments_lexer": "ipython3",
   "version": "3.9.13"
  }
 },
 "nbformat": 4,
 "nbformat_minor": 2
}
